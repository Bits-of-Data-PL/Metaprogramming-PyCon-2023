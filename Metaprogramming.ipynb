{
 "cells": [
  {
   "cell_type": "markdown",
   "id": "7704edcd",
   "metadata": {
    "slideshow": {
     "slide_type": "slide"
    }
   },
   "source": [
    "# Python - the missing bits\n",
    "## Practical <span style=\"color: cyan\">metaprogramming</span> applications\n",
    "\n",
    "#### Michał Korzycki - https://www.youtube.com/@BitsofData/streams"
   ]
  },
  {
   "cell_type": "markdown",
   "id": "a16ec570",
   "metadata": {
    "slideshow": {
     "slide_type": "slide"
    }
   },
   "source": [
    "> #### <span style=\"color: cyan\">[Metaclasses] are deeper magic</span> than 99% of users should ever worry about. \n",
    "> #### If you wonder whether you need them, you don’t \n",
    ">\n",
    "> ##### <div style=\"text-align: right\">-- Tim Peters, Inventor of the timsort algorithm</span>"
   ]
  },
  {
   "cell_type": "markdown",
   "id": "19d73d27",
   "metadata": {
    "slideshow": {
     "slide_type": "slide"
    }
   },
   "source": [
    "> #### I call it \"the advanced beginner metaclass trap\".\n",
    "> ##### <div style=\"text-align: right\">... random comment on the internet</span>"
   ]
  },
  {
   "cell_type": "markdown",
   "id": "ff51c156",
   "metadata": {
    "slideshow": {
     "slide_type": "slide"
    }
   },
   "source": [
    "> #### 99% of the time actually you only need `subclass_init`\n",
    "> #####  `__subclass_init__`  was added to Python 3.6 in 2015\n",
    "\n",
    "> ##### <div style=\"text-align: right\">... yet another random comment on the internet</span>"
   ]
  },
  {
   "cell_type": "markdown",
   "id": "28147400",
   "metadata": {
    "slideshow": {
     "slide_type": "slide"
    }
   },
   "source": [
    "# Agenda\n",
    "\n",
    "- ### Metaclasses refresher\n",
    "- ### *Final* classes\n",
    "- ### *\"Real\"* Singletons are not evil\n",
    "- ### Java-like Annotations are also Meta\n",
    "- ### Meta-models for SQLAlchemy\n",
    "- ### General guidelines"
   ]
  },
  {
   "cell_type": "markdown",
   "id": "0995a6a1",
   "metadata": {
    "slideshow": {
     "slide_type": "slide"
    }
   },
   "source": [
    "# Metaclasses refresher"
   ]
  },
  {
   "cell_type": "markdown",
   "id": "993783bc",
   "metadata": {
    "slideshow": {
     "slide_type": "slide"
    }
   },
   "source": [
    "`object.__new__(cls[, ...])`\n",
    "Called to create a new instance of `class cls`\n",
    "\n",
    "`object.__init__(self[, ...])`\n",
    "Called after the instance has been created (by __new__())\n",
    "\n",
    "`__new__()` is intended mainly to allow subclasses of immutable types <...> to customize instance creation. It is also commonly overridden in custom metaclasses in order to customize class creation."
   ]
  },
  {
   "cell_type": "markdown",
   "id": "0871c046",
   "metadata": {
    "slideshow": {
     "slide_type": "slide"
    }
   },
   "source": [
    "```python\n",
    "from weakref import WeakKeyDictionary\n",
    "\n",
    "class FlyweightMeta(type):\n",
    "    def __new__(cls, name, bases, attrs):\n",
    "        attrs['cache'] = WeakKeyDictionary()\n",
    "        return super(FlyweightMeta, cls).__new__(cls, name, bases, attrs)\n",
    "\n",
    "    def __call__(cls, *args, **kwargs):\n",
    "        key = (*args, tuple(kwargs.items()))\n",
    "        cache = getattr(cls, 'cache')\n",
    "        return cache.setdefault(key, super(FlyweightMeta, cls).__call__(*args, **kwargs))\n",
    "```"
   ]
  },
  {
   "cell_type": "markdown",
   "id": "c61f165c",
   "metadata": {
    "slideshow": {
     "slide_type": "slide"
    }
   },
   "source": [
    "##### PEP 487 – Simpler customisation of class creation\n",
    "\n",
    "`__init_subclass__` a hook that initializes all subclasses of a given class\n",
    "\n",
    "`__set_name__` a hook that is called on all the attribute (descriptors) defined in the class,"
   ]
  },
  {
   "cell_type": "code",
   "execution_count": 2,
   "id": "a16e5901",
   "metadata": {
    "slideshow": {
     "slide_type": "slide"
    }
   },
   "outputs": [],
   "source": [
    "import weakref\n",
    "\n",
    "class WeakAttribute:\n",
    "    def __get__(self, instance, owner):\n",
    "        return instance.__dict__[self.name]()\n",
    "\n",
    "    def __set__(self, instance, value):\n",
    "        instance.__dict__[self.name] = weakref.ref(value)\n",
    "\n",
    "    # this is the new initializer:\n",
    "    def __set_name__(self, owner, name):\n",
    "        self.name = name"
   ]
  },
  {
   "cell_type": "markdown",
   "id": "90a3cb71",
   "metadata": {
    "slideshow": {
     "slide_type": "slide"
    }
   },
   "source": [
    "`__prepare__` is invoked as a function before the evaluation of the class body. "
   ]
  },
  {
   "cell_type": "markdown",
   "id": "8d2a7490",
   "metadata": {
    "slideshow": {
     "slide_type": "slide"
    }
   },
   "source": [
    "# <span style=\"color: cyan\">*Final*</span> &nbsp;classes"
   ]
  },
  {
   "cell_type": "markdown",
   "id": "500a1bd4",
   "metadata": {
    "slideshow": {
     "slide_type": "slide"
    }
   },
   "source": [
    "```python\n",
    "class EnumMeta(type):\n",
    "    \"\"\"\n",
    "    Metaclass for Enum\n",
    "    \"\"\"\n",
    "    @classmethod\n",
    "    def __prepare__(metacls, cls, bases, **kwds):\n",
    "        ...\n",
    "        first_enum = bases[-1]\n",
    "        if first_enum._member_names_:\n",
    "            raise TypeError(\"Cannot extend enumerations\")\n",
    "        ...\n",
    "```"
   ]
  },
  {
   "cell_type": "markdown",
   "id": "2071985a",
   "metadata": {
    "slideshow": {
     "slide_type": "slide"
    }
   },
   "source": [
    "# <span style=\"color: cyan\">*\"Real\"*</span>&nbsp; Singletons are not evil\n",
    "\n",
    "### It is all about <span style=\"color: cyan\">*subclassing*</span>"
   ]
  },
  {
   "cell_type": "markdown",
   "id": "f4705745",
   "metadata": {
    "slideshow": {
     "slide_type": "slide"
    }
   },
   "source": [
    "> ## Singletons aren't <span style=\"color: cyan\">*polymorphic*</span>.\n",
    "> ### <div style=\"text-align: right\">Wiki Wiki Web (wiki.c2.com)</span>\n",
    "\n",
    "---\n",
    "\n",
    "> ## When you have singletons in your code, it makes it hard to <span style=\"color: cyan\">test</span> and debug.\n",
    "> ### <div style=\"text-align: right\">David Litvak</span>\n"
   ]
  },
  {
   "cell_type": "markdown",
   "id": "e7a1900f",
   "metadata": {
    "slideshow": {
     "slide_type": "slide"
    }
   },
   "source": [
    "```python\n",
    "class ParentSingletonMeta(type):\n",
    "    def __call__(cls, *args, **kwargs):\n",
    "        parent = cls.__bases__[-1]\n",
    "        if parent not in _singleton_instances:\n",
    "            instance = super().__call__(*args, **kwargs)\n",
    "            _singleton_instances[parent] = instance\n",
    "        return _singleton_instances[parent]\n",
    "\n",
    "class ABCParentSingletonMeta(ParentSingletonMeta, abc.ABCMeta):\n",
    "    pass\n",
    "\n",
    "\n",
    "```"
   ]
  },
  {
   "cell_type": "markdown",
   "id": "10e4f539",
   "metadata": {
    "slideshow": {
     "slide_type": "slide"
    }
   },
   "source": [
    "```python\n",
    "class WebPushProvider(metaclass=ABCParentSingletonMeta):\n",
    "    @classmethod\n",
    "    def get_webpush_notification_data(cls, title, body, delivery_id):\n",
    "...\n",
    "...\n",
    "...\n",
    "    @classmethod\n",
    "    @abstractmethod\n",
    "    def web_push(cls, domain, email, data, db=None):\n",
    "        pass\n",
    "```"
   ]
  },
  {
   "cell_type": "markdown",
   "id": "4eab0b09",
   "metadata": {
    "slideshow": {
     "slide_type": "slide"
    }
   },
   "source": [
    "```python\n",
    "class DummyWebPushProvider(WebPushProvider):\n",
    "    data = None\n",
    "\n",
    "    @classmethod\n",
    "    def web_push(cls, domain, email, data, db=None):\n",
    "        cls.data = domain, email, data\n",
    "\n",
    "                \n",
    "class StandardWebPushProvider(WebPushProvider):\n",
    "    @classmethod\n",
    "    def web_push(cls, domain, email, data, db=None):\n",
    "        subscriptions = get_subscriptions(domain, email, db)\n",
    "...\n",
    "```"
   ]
  },
  {
   "cell_type": "markdown",
   "id": "d9908ed7",
   "metadata": {
    "slideshow": {
     "slide_type": "slide"
    }
   },
   "source": [
    "# Java-like annotations are also <span style=\"color: cyan\">*Meta*</span>\n",
    "\n",
    "### Use `__docs__` to carry information"
   ]
  },
  {
   "cell_type": "markdown",
   "id": "577af43a",
   "metadata": {
    "slideshow": {
     "slide_type": "slide"
    }
   },
   "source": [
    "```python\n",
    "@router.get(\"/messages/{slug}\", response_model=List[Message])\n",
    "@authorize('CONFIRMED')\n",
    "async def get_messages(slug: str, Authorize: AuthJWT = Depends(), \n",
    "                       db: Session = Depends(get_db)):\n",
    "    return crud.messages(slug, access_token_from_authorize(slug, Authorize), db)\n",
    "```"
   ]
  },
  {
   "cell_type": "markdown",
   "id": "4d551a96",
   "metadata": {
    "slideshow": {
     "slide_type": "slide"
    }
   },
   "source": [
    "```python\n",
    "def authorize(permission=None, refresh=False):\n",
    "    def _authorize(_func):\n",
    "        @wraps(_func)\n",
    "        async def wrapper(*args, **kwargs):\n",
    "            try:\n",
    "                Authorize = kwargs.get('Authorize')          \n",
    "...\n",
    "...\n",
    "...\n",
    "        wrapper.__docs__ = \"Authorized\"\n",
    "        return wrapper\n",
    "```"
   ]
  },
  {
   "cell_type": "markdown",
   "id": "1acb76c4",
   "metadata": {
    "slideshow": {
     "slide_type": "slide"
    }
   },
   "source": [
    "```python\n",
    "@pytest.mark.parametrize(\"router_fixture\", [\n",
    "    ('agent-panel', api.agent_panel.router, ['/crmquestions-hello']),\n",
    "...\n",
    "...\n",
    "...\n",
    "], indirect=True)\n",
    "def test_secops(router_fixture):\n",
    "    path, router, whitelist = router_fixture\n",
    "...\n",
    "...\n",
    "```"
   ]
  },
  {
   "cell_type": "markdown",
   "id": "65c78ebf",
   "metadata": {
    "slideshow": {
     "slide_type": "subslide"
    }
   },
   "source": [
    "```python\n",
    "def test_secops(router_fixture):\n",
    "    path, router, whitelist = router_fixture\n",
    "...\n",
    "    for route in routes:\n",
    "        assert   ((route.path, route.methods, route.endpoint.__docs__) \n",
    "               == (route.path, route.methods, 'Authorized'))\n",
    "        \n",
    "```"
   ]
  },
  {
   "cell_type": "markdown",
   "id": "5f2fd607",
   "metadata": {
    "slideshow": {
     "slide_type": "slide"
    }
   },
   "source": [
    "# Meta-models \n",
    "## For SQLAlchemy"
   ]
  },
  {
   "cell_type": "markdown",
   "id": "c5091124",
   "metadata": {
    "slideshow": {
     "slide_type": "slide"
    }
   },
   "source": [
    "```python\n",
    "class Variable(RelCampaignMixin, RelConsumerMixin, IdTimestampMixin, Base):\n",
    "    name = db.Column(db.String(32), nullable=False)\n",
    "    value = db.Column(db.String(32), nullable=False)\n",
    "    value_type = db.Column(db.String(TYPE_LEN), db.ForeignKey('value_type.id'))\n",
    "    __table_args__ = (\n",
    "        db.UniqueConstraint('name', 'consumer_id', 'campaign_id',\n",
    "                            name='uix_variable'),\n",
    "    )\n",
    "```"
   ]
  },
  {
   "cell_type": "raw",
   "id": "73afb2f1",
   "metadata": {
    "slideshow": {
     "slide_type": "slide"
    }
   },
   "source": [
    " Schema |             Name              |       Type        |  Owner\n",
    "--------+-------------------------------+-------------------+---------\n",
    " public | discount_value                | table             | dev_user\n",
    " public | event                         | partitioned table | dev_user\n",
    " public | event_202212                  | table             | dev_user\n",
    " public | event_202301                  | table             | dev_user\n",
    " public | event_202302                  | table             | dev_user\n",
    " public | event_202303                  | table             | dev_user\n",
    " public | event_202304                  | table             | dev_user\n",
    " public | event_202305                  | table             | dev_user\n",
    " public | event_202306                  | table             | dev_user\n",
    " public | event_type                    | table             | dev_user"
   ]
  },
  {
   "cell_type": "markdown",
   "id": "93118d77",
   "metadata": {
    "slideshow": {
     "slide_type": "slide"
    }
   },
   "source": [
    "```python\n",
    "class Event(EventPartitionMixin, Base, metaclass=PartitionByMeta, partition_by='created', partition_type='RANGE'):\n",
    "    pass\n",
    "```"
   ]
  },
  {
   "cell_type": "markdown",
   "id": "5c76f030",
   "metadata": {
    "slideshow": {
     "slide_type": "slide"
    }
   },
   "source": [
    "```python\n",
    "class EventPartitionMixin(PartitionMixin):\n",
    "    slug = db.Column(db.String(32), nullable=False)\n",
    "    consumer_id = db.Column(UUID(as_uuid=True), nullable=False)\n",
    "    type = db.Column(EventTypeWrapper, nullable=False)\n",
    "    payload = db.Column(JSON(), nullable=False, default={})\n",
    "```"
   ]
  },
  {
   "cell_type": "markdown",
   "id": "f5799d0b",
   "metadata": {
    "slideshow": {
     "slide_type": "slide"
    }
   },
   "source": [
    "```python\n",
    "class Message(MessagePartitionMixin, Base, metaclass=PartitionByMeta, \n",
    "              partition_by='created', partition_type='RANGE'):\n",
    "    __table_args__ = (\n",
    "        db.Index('message__email_slug_idx', 'email', 'slug'),\n",
    "    )\n",
    "```"
   ]
  },
  {
   "cell_type": "markdown",
   "id": "c4462866",
   "metadata": {
    "slideshow": {
     "slide_type": "slide"
    }
   },
   "source": [
    "```python\n",
    ">>> class QuestBase:\n",
    "...    # this is implicitly a @classmethod (see below for motivation)\n",
    "...    def __init_subclass__(cls, swallow, **kwargs):\n",
    "...        cls.swallow = swallow\n",
    "...        super().__init_subclass__(**kwargs)\n",
    "\n",
    ">>> class Quest(QuestBase, swallow=\"african\"):\n",
    "...    pass\n",
    "\n",
    ">>> Quest.swallow\n",
    "'african'\n",
    "```"
   ]
  },
  {
   "cell_type": "markdown",
   "id": "0a2d2440",
   "metadata": {
    "slideshow": {
     "slide_type": "slide"
    }
   },
   "source": [
    "# General guidelines"
   ]
  },
  {
   "cell_type": "markdown",
   "id": "52369c4f",
   "metadata": {
    "slideshow": {
     "slide_type": "slide"
    }
   },
   "source": [
    "- Be cautious about using Metaclasses\n",
    "    - 99% of the time you just need `__init_subclass__`\n",
    "- Do not mix metaclasses - that is not what the creators of libraries intended\n",
    "- Read your Python Enhancement Proposals\n",
    "    - *PEP 487 – Simpler customisation of class creation*"
   ]
  },
  {
   "cell_type": "markdown",
   "id": "75c59d14",
   "metadata": {
    "slideshow": {
     "slide_type": "slide"
    }
   },
   "source": [
    "\n",
    "# <span style=\"color: cyan\">Thank You!</span>\n",
    "\n",
    "\n",
    "#### https://github.com/Bits-of-Data-PL/Metaprogramming-PyCon-2023\n",
    "#### Like and subscribe: https://www.youtube.com/@BitsofData/streams\n"
   ]
  },
  {
   "cell_type": "markdown",
   "id": "1588545f",
   "metadata": {
    "slideshow": {
     "slide_type": "slide"
    }
   },
   "source": [
    "https://github.com/Bits-of-Data-PL/Metaprogramming-PyCon-2023 | https://www.youtube.com/@BitsofData/streams\n",
    ":- | -:\n",
    "![\"qr.png\"](qr.png) | ![\"qr2.png\"](qr2.png)"
   ]
  }
 ],
 "metadata": {
  "celltoolbar": "Slideshow",
  "kernelspec": {
   "display_name": "Python 3 (ipykernel)",
   "language": "python",
   "name": "python3"
  },
  "language_info": {
   "codemirror_mode": {
    "name": "ipython",
    "version": 3
   },
   "file_extension": ".py",
   "mimetype": "text/x-python",
   "name": "python",
   "nbconvert_exporter": "python",
   "pygments_lexer": "ipython3",
   "version": "3.9.9"
  }
 },
 "nbformat": 4,
 "nbformat_minor": 5
}

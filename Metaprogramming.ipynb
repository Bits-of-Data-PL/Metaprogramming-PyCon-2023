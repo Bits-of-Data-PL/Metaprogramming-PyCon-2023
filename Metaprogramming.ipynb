{
 "cells": [
  {
   "cell_type": "markdown",
   "id": "7704edcd",
   "metadata": {
    "slideshow": {
     "slide_type": "slide"
    }
   },
   "source": [
    "# Python - the missing bits.\n",
    "# Practical metaprogramming applications.\n",
    "\n",
    "#### Michał Korzycki - "
   ]
  },
  {
   "cell_type": "markdown",
   "id": "a16ec570",
   "metadata": {
    "slideshow": {
     "slide_type": "slide"
    }
   },
   "source": [
    "> ### [Metaclasses] are deeper magic than 99% of users should ever worry about. \n",
    "> ### If you wonder whether you need them, you don’t \n",
    "> ### (the people who actually need them know with certainty that they need them, and don’t need an explanation about why).\n",
    ">\n",
    "> #### <div style=\"text-align: right\">-- Tim Peters, Inventor of the timsort algorithm and prolific Python contributor</span>"
   ]
  },
  {
   "cell_type": "markdown",
   "id": "19d73d27",
   "metadata": {
    "slideshow": {
     "slide_type": "slide"
    }
   },
   "source": [
    "> ### I call it \"the advanced beginner metaclass trap\".\n",
    "> ### <div style=\"text-align: right\">... random comment on the internet</span>"
   ]
  },
  {
   "cell_type": "markdown",
   "id": "ff51c156",
   "metadata": {
    "slideshow": {
     "slide_type": "slide"
    }
   },
   "source": [
    "### 99% of the time actually you only need __subclass_init__.\n",
    " \n",
    "####  `__subclass_init__`  was only added to Python 3.6 in 2015 via PEP 487."
   ]
  },
  {
   "cell_type": "markdown",
   "id": "28147400",
   "metadata": {
    "slideshow": {
     "slide_type": "slide"
    }
   },
   "source": [
    "# Agenda\n",
    "\n",
    "- ### Metaclasses refresher\n",
    "- ### *\"Real\"* Singletons are not evil\n",
    "- ### *Final* classes\n",
    "- ### Java-like Annotations are also Meta\n",
    "- ### Meta-models for SQLAlchemy\n",
    "- ### General guidelines"
   ]
  },
  {
   "cell_type": "markdown",
   "id": "0995a6a1",
   "metadata": {
    "slideshow": {
     "slide_type": "slide"
    }
   },
   "source": [
    "# Metaclasses refresher"
   ]
  },
  {
   "cell_type": "code",
   "execution_count": null,
   "id": "87f39ccf",
   "metadata": {},
   "outputs": [],
   "source": [
    "When you create an instance of a class, Python first calls the __new__() method to create the object and then calls the __init__() method to initialize the object’s attributes."
   ]
  },
  {
   "cell_type": "markdown",
   "id": "993783bc",
   "metadata": {},
   "source": [
    "`object.__new__(cls[, ...])`\n",
    "Called to create a new instance of `class cls`\n",
    "\n",
    "`object.__init__(self[, ...])`\n",
    "Called after the instance has been created (by __new__())\n",
    "\n",
    "`__new__()` is intended mainly to allow subclasses of immutable types <...> to customize instance creation. It is also commonly overridden in custom metaclasses in order to customize class creation."
   ]
  },
  {
   "cell_type": "code",
   "execution_count": null,
   "id": "f9ab7e5b",
   "metadata": {},
   "outputs": [],
   "source": [
    "__prepare__ is invoked as a function before the evaluation of the class body. "
   ]
  },
  {
   "cell_type": "markdown",
   "id": "2071985a",
   "metadata": {
    "slideshow": {
     "slide_type": "slide"
    }
   },
   "source": [
    "# <span style=\"color: cyan\">*\"Real\"*</span>&nbsp; Singletons are not evil\n",
    "\n",
    "### It is all about <span style=\"color: cyan\">*subclassing*</span>"
   ]
  },
  {
   "cell_type": "markdown",
   "id": "f4705745",
   "metadata": {
    "slideshow": {
     "slide_type": "slide"
    }
   },
   "source": [
    "> ## Singletons aren't *polymorphic*.\n",
    "> ### <div style=\"text-align: right\">Wiki Wiki Web (wiki.c2.com)</span>Singletons aren't *polymorphic*.\n",
    "\n",
    "---\n",
    "\n",
    "> ## When you have singletons in your code, it makes it hard to test and debug.\n",
    "> ### <div style=\"text-align: right\">David Litvak</span>\n"
   ]
  },
  {
   "cell_type": "markdown",
   "id": "7f9c7f01",
   "metadata": {
    "slideshow": {
     "slide_type": "notes"
    }
   },
   "source": [
    "GoF book - about subclassing"
   ]
  },
  {
   "cell_type": "markdown",
   "id": "e7a1900f",
   "metadata": {
    "slideshow": {
     "slide_type": "slide"
    }
   },
   "source": [
    "```python\n",
    "class ParentSingletonMeta(type):\n",
    "    def __call__(cls, *args, **kwargs):\n",
    "        parent = cls.__bases__[-1]\n",
    "\n",
    "        if parent not in _singleton_instances:\n",
    "            instance = super().__call__(*args, **kwargs)\n",
    "            _singleton_instances[parent] = instance\n",
    "        return _singleton_instances[parent]\n",
    "\n",
    "class ABCParentSingletonMeta(ParentSingletonMeta, abc.ABCMeta):\n",
    "    pass\n",
    "\n",
    "```"
   ]
  },
  {
   "cell_type": "markdown",
   "id": "10e4f539",
   "metadata": {
    "slideshow": {
     "slide_type": "slide"
    }
   },
   "source": [
    "```python\n",
    "class WebPushProvider(metaclass=ParentSingletonMeta):\n",
    "    @classmethod\n",
    "    def get_webpush_notification_data(cls, title, body, delivery_id):\n",
    "...\n",
    "...\n",
    "...\n",
    "    @classmethod\n",
    "    @abstractmethod\n",
    "    def web_push(cls, domain, email, data, db=None):\n",
    "        pass\n",
    "```"
   ]
  },
  {
   "cell_type": "markdown",
   "id": "4eab0b09",
   "metadata": {
    "slideshow": {
     "slide_type": "slide"
    }
   },
   "source": [
    "```python\n",
    "class DummyWebPushProvider(WebPushProvider):\n",
    "    data = None\n",
    "\n",
    "    @classmethod\n",
    "    def web_push(cls, domain, email, data, db=None):\n",
    "        cls.data = domain, email, data\n",
    "\n",
    "                \n",
    "class StandardWebPushProvider(WebPushProvider):\n",
    "    @classmethod\n",
    "    def web_push(cls, domain, email, data, db=None):\n",
    "        subscriptions = get_subscriptions(domain, email, db)\n",
    "...\n",
    "```"
   ]
  },
  {
   "cell_type": "markdown",
   "id": "efe65deb",
   "metadata": {
    "slideshow": {
     "slide_type": "slide"
    }
   },
   "source": [
    "# <span style=\"color: cyan\">*Final*</span> &nbsp;classes"
   ]
  },
  {
   "cell_type": "markdown",
   "id": "02b7c402",
   "metadata": {
    "slideshow": {
     "slide_type": "slide"
    }
   },
   "source": [
    "```python\n",
    "class EnumMeta(type):\n",
    "    \"\"\"\n",
    "    Metaclass for Enum\n",
    "    \"\"\"\n",
    "    @classmethod\n",
    "    def __prepare__(metacls, cls, bases, **kwds):\n",
    "        ...\n",
    "        first_enum = bases[-1]\n",
    "        if first_enum._member_names_:\n",
    "            raise TypeError(\"Cannot extend enumerations\")\n",
    "        ...\n",
    "```"
   ]
  },
  {
   "cell_type": "markdown",
   "id": "d9908ed7",
   "metadata": {
    "slideshow": {
     "slide_type": "slide"
    }
   },
   "source": [
    "# Java-like annotations are also <span style=\"color: cyan\">*Meta*</span>\n",
    "\n",
    "### Use `__docs__` to carry information"
   ]
  },
  {
   "cell_type": "markdown",
   "id": "577af43a",
   "metadata": {
    "slideshow": {
     "slide_type": "slide"
    }
   },
   "source": [
    "```python\n",
    "@router.get(\"/messages/{slug}\", response_class=ORJSONResponse, response_model=List[Message])\n",
    "@authorize('CONFIRMED')\n",
    "async def get_messages(slug: str, Authorize: AuthJWT = Depends(), db: Session = Depends(get_db)):\n",
    "    return crud.messages(slug, access_token_from_authorize(slug, Authorize), db)\n",
    "```"
   ]
  },
  {
   "cell_type": "markdown",
   "id": "4d551a96",
   "metadata": {
    "slideshow": {
     "slide_type": "slide"
    }
   },
   "source": [
    "```python\n",
    "def authorize(permission=None, refresh=False):\n",
    "    def _authorize(_func):\n",
    "        @wraps(_func)\n",
    "        async def wrapper(*args, **kwargs):\n",
    "            try:\n",
    "                Authorize = kwargs.get('Authorize')          \n",
    "...\n",
    "...\n",
    "...\n",
    "        wrapper.__docs__ = \"Authorized\"\n",
    "        return wrapper\n",
    "```"
   ]
  },
  {
   "cell_type": "markdown",
   "id": "1acb76c4",
   "metadata": {
    "slideshow": {
     "slide_type": "slide"
    }
   },
   "source": [
    "```python\n",
    "@pytest.mark.parametrize(\"router_fixture\", [\n",
    "    ('agent-panel', api.agent_panel.router, ['/crmquestions-hello']),\n",
    "...\n",
    "...\n",
    "...\n",
    "], indirect=True)\n",
    "def test_secops(router_fixture):\n",
    "    path, router, whitelist = router_fixture\n",
    "...\n",
    "...\n",
    "```"
   ]
  },
  {
   "cell_type": "markdown",
   "id": "65c78ebf",
   "metadata": {
    "slideshow": {
     "slide_type": "slide"
    }
   },
   "source": [
    "```python\n",
    "def test_secops(router_fixture):\n",
    "    path, router, whitelist = router_fixture\n",
    "...\n",
    "    for route in routes:\n",
    "        assert   ((route.path, route.methods, route.endpoint.__docs__) \n",
    "               == (route.path, route.methods, 'Authorized'))\n",
    "        \n",
    "```"
   ]
  },
  {
   "cell_type": "markdown",
   "id": "0a2d2440",
   "metadata": {
    "slideshow": {
     "slide_type": "slide"
    }
   },
   "source": [
    "# General guidelines"
   ]
  },
  {
   "cell_type": "markdown",
   "id": "52369c4f",
   "metadata": {
    "slideshow": {
     "slide_type": "slide"
    }
   },
   "source": [
    "- Be cautious about using Metaclasses\n",
    "    - 99% of the time you just need `__init_subclass__`\n",
    "- Do not mix metaclasses - that is not what the creators of libraries intended\n",
    "- Read *PEP 487 – Simpler customisation of class creation*"
   ]
  },
  {
   "cell_type": "code",
   "execution_count": null,
   "id": "8554cf3b",
   "metadata": {},
   "outputs": [],
   "source": [
    "## Thank You!\n",
    "\n",
    "## Like and subscribe: https://www.youtube.com/@BitsofData/streams"
   ]
  }
 ],
 "metadata": {
  "celltoolbar": "Slideshow",
  "kernelspec": {
   "display_name": "Python 3 (ipykernel)",
   "language": "python",
   "name": "python3"
  },
  "language_info": {
   "codemirror_mode": {
    "name": "ipython",
    "version": 3
   },
   "file_extension": ".py",
   "mimetype": "text/x-python",
   "name": "python",
   "nbconvert_exporter": "python",
   "pygments_lexer": "ipython3",
   "version": "3.9.9"
  }
 },
 "nbformat": 4,
 "nbformat_minor": 5
}
